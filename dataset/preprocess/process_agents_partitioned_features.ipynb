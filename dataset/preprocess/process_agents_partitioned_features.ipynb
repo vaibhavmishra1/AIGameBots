{
 "cells": [
  {
   "cell_type": "code",
   "execution_count": 1,
   "metadata": {},
   "outputs": [
    {
     "name": "stdout",
     "output_type": "stream",
     "text": [
      "Found 3927 JSON files in the folder\n"
     ]
    },
    {
     "name": "stderr",
     "output_type": "stream",
     "text": [
      "Processing files: 100%|██████████| 3927/3927 [05:06<00:00, 12.82it/s]\n"
     ]
    }
   ],
   "source": [
    "import os\n",
    "import json\n",
    "from pathlib import Path\n",
    "\n",
    "import pandas as pd\n",
    "import numpy as np\n",
    "# Define the folder path\n",
    "folder_path = \"/Users/vaibhavmishra/Desktop/btx-game-aicode/clash_squad_agent_partitioned_features\"\n",
    "\n",
    "# Get all files in the folder\n",
    "files = []\n",
    "for file in os.listdir(folder_path):\n",
    "    if file.endswith('.json'):\n",
    "        files.append(file)\n",
    "\n",
    "print(f\"Found {len(files)} JSON files in the folder\")\n",
    "\n",
    "\n",
    "from tqdm import tqdm\n",
    "\n",
    "for file in tqdm(files, desc=\"Processing files\"):\n",
    "    file_path = os.path.join(folder_path, file)\n",
    "    file_name = file.split('.')[0]\n",
    "    output_path = \"/Users/vaibhavmishra/Desktop/btx-game-aicode/clash_squad_partitioned_features_chunked/\"\n",
    "    try:\n",
    "        with open(file_path, 'r') as f:\n",
    "            data = json.load(f)\n",
    "            # print(f\"Successfully read: {file}\")\n",
    "    except Exception as e:\n",
    "        print(f\"Error reading {file}: {e}\")\n",
    "\n",
    "\n",
    "    features = data['features']\n",
    "    chunk_size = 20\n",
    "\n",
    "    \n",
    "    for i in range(0, len(features) - chunk_size, chunk_size):\n",
    "        # Extract features from index i to i+chunk_size\n",
    "        chunk_features = []\n",
    "        for j in range(i, i + chunk_size):\n",
    "            chunk_features.extend(features[j][0])  # features[j][0] contains the feature vector\n",
    "        \n",
    "        # Extract action from index i+chunk_size\n",
    "        if i + chunk_size < len(features):\n",
    "            chunk_action = features[i + chunk_size][1]  # features[i+chunk_size][1] contains the action vector\n",
    "        \n",
    "        \n",
    "        \n",
    "        # Convert to numpy arrays for efficient storage\n",
    "        chunk_features_array = np.array(chunk_features, dtype=np.float32)\n",
    "        chunk_action_array = np.array(chunk_action, dtype=np.float32)\n",
    "        \n",
    "        # Save as .npy files\n",
    "        features_filename = f\"features/{file_name}_features_chunk_{i//chunk_size}.npy\"\n",
    "        actions_filename = f\"actions/{file_name}_actions_chunk_{i//chunk_size}.npy\"\n",
    "        \n",
    "        np.save(os.path.join(output_path, features_filename), chunk_features_array)\n",
    "        np.save(os.path.join(output_path, actions_filename), chunk_action_array)\n",
    "\n",
    "\n",
    "   \n",
    "\n"
   ]
  },
  {
   "cell_type": "code",
   "execution_count": null,
   "metadata": {},
   "outputs": [],
   "source": []
  }
 ],
 "metadata": {
  "kernelspec": {
   "display_name": "Python 3",
   "language": "python",
   "name": "python3"
  },
  "language_info": {
   "codemirror_mode": {
    "name": "ipython",
    "version": 3
   },
   "file_extension": ".py",
   "mimetype": "text/x-python",
   "name": "python",
   "nbconvert_exporter": "python",
   "pygments_lexer": "ipython3",
   "version": "3.12.8"
  }
 },
 "nbformat": 4,
 "nbformat_minor": 2
}
